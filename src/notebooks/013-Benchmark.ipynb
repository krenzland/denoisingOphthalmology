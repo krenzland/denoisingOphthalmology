{
 "cells": [
  {
   "cell_type": "code",
   "execution_count": 27,
   "metadata": {},
   "outputs": [],
   "source": [
    "import time\n",
    "\n",
    "import sys\n",
    "sys.path.append('..')\n",
    "\n",
    "import numpy as np\n",
    "import pandas as pd\n",
    "\n",
    "from torch.autograd import Variable\n",
    "import torch\n",
    "from torch import nn\n",
    "from torch import autograd"
   ]
  },
  {
   "cell_type": "code",
   "execution_count": 2,
   "metadata": {},
   "outputs": [],
   "source": [
    "from models.lap_srn import LapSRN\n",
    "from models.unet import UNet"
   ]
  },
  {
   "cell_type": "code",
   "execution_count": 46,
   "metadata": {},
   "outputs": [
    {
     "data": {
      "text/plain": [
       "Variable containing:\n",
       "( 0 , 0 ,.,.) = \n",
       "  0.5000  0.5000  0.5000  ...   0.5000  0.5000  0.5000\n",
       "  0.5000  0.5000  0.5000  ...   0.5000  0.5000  0.5000\n",
       "  0.5000  0.5000  0.5000  ...   0.5000  0.5000  0.5000\n",
       "           ...             ⋱             ...          \n",
       "  0.5000  0.5000  0.5000  ...   0.5000  0.5000  0.5000\n",
       "  0.5000  0.5000  0.5000  ...   0.5000  0.5000  0.5000\n",
       "  0.5000  0.5000  0.5000  ...   0.5000  0.5000  0.5000\n",
       "\n",
       "( 0 , 1 ,.,.) = \n",
       "  0.5000  0.5000  0.5000  ...   0.5000  0.5000  0.5000\n",
       "  0.5000  0.5000  0.5000  ...   0.5000  0.5000  0.5000\n",
       "  0.5000  0.5000  0.5000  ...   0.5000  0.5000  0.5000\n",
       "           ...             ⋱             ...          \n",
       "  0.5000  0.5000  0.5000  ...   0.5000  0.5000  0.5000\n",
       "  0.5000  0.5000  0.5000  ...   0.5000  0.5000  0.5000\n",
       "  0.5000  0.5000  0.5000  ...   0.5000  0.5000  0.5000\n",
       "\n",
       "( 0 , 2 ,.,.) = \n",
       "  0.5000  0.5000  0.5000  ...   0.5000  0.5000  0.5000\n",
       "  0.5000  0.5000  0.5000  ...   0.5000  0.5000  0.5000\n",
       "  0.5000  0.5000  0.5000  ...   0.5000  0.5000  0.5000\n",
       "           ...             ⋱             ...          \n",
       "  0.5000  0.5000  0.5000  ...   0.5000  0.5000  0.5000\n",
       "  0.5000  0.5000  0.5000  ...   0.5000  0.5000  0.5000\n",
       "  0.5000  0.5000  0.5000  ...   0.5000  0.5000  0.5000\n",
       "[torch.cuda.FloatTensor of size 1x3x100x100 (GPU 0)]"
      ]
     },
     "execution_count": 46,
     "metadata": {},
     "output_type": "execute_result"
    }
   ],
   "source": [
    "img_size = 100\n",
    "def get_img(img_size):\n",
    "    img = Variable(nn.init.constant(torch.Tensor(3,img_size,img_size).unsqueeze(0).cuda(), val=0.5 ), volatile=True)\n",
    "    img = torch.cat(([img]))\n",
    "\n",
    "    return img\n",
    "img = get_img(img_size)\n",
    "img\n"
   ]
  },
  {
   "cell_type": "code",
   "execution_count": 21,
   "metadata": {},
   "outputs": [],
   "source": [
    "lap_srn = LapSRN(depth=10, upsample=True).cuda().eval()\n",
    "#unet = UNet(num_classes=3).cuda().eval()\n",
    "#lap_deblur = LapSRN(depth=5, upsample=False).cuda().eval()"
   ]
  },
  {
   "cell_type": "code",
   "execution_count": 49,
   "metadata": {},
   "outputs": [],
   "source": [
    "def time_model_single(model, img_size, n_times):\n",
    "    times = []\n",
    "    for i in range(n_times+2):\n",
    "        img = get_img(img_size)\n",
    "        torch.cuda.synchronize()\n",
    "        torch.cuda.synchronize()\n",
    "        start_event = torch.cuda.Event(enable_timing=True)\n",
    "        end_event = torch.cuda.Event(enable_timing=True)\n",
    "        \n",
    "        start_event.record()\n",
    "\n",
    "        model(img)\n",
    "        \n",
    "        end_event.record()\n",
    "        end_event.synchronize()        \n",
    "        \n",
    "        #del up\n",
    "        \n",
    "        # Discard first measurement (outlier)\n",
    "        if i != 0:\n",
    "            times.append(start_event.elapsed_time(end_event)) # ms\n",
    "    return np.array(times).mean()\n",
    "\n",
    "def time_model(model, model_name, sizes=[16,32,64]):\n",
    "    results = []\n",
    "    for size in sizes:\n",
    "        print(model_name, size)\n",
    "        result = time_model_single(model, img_size=size, n_times=10)\n",
    "        results.append((model_name, size, result))\n",
    "    return results"
   ]
  },
  {
   "cell_type": "code",
   "execution_count": 50,
   "metadata": {},
   "outputs": [
    {
     "name": "stdout",
     "output_type": "stream",
     "text": [
      "lap_srn 256\n"
     ]
    },
    {
     "data": {
      "text/plain": [
       "[('lap_srn', 256, 77.11049235950817)]"
      ]
     },
     "execution_count": 50,
     "metadata": {},
     "output_type": "execute_result"
    }
   ],
   "source": [
    "#deblur_range = [16]\n",
    "#upscale_range = [16]\n",
    "#unet_times = time_model(unet, model_name='unet', sizes=deblur_range)\n",
    "#lap_deblur_times = time_model(lap_deblur, model_name='lap_deblur', sizes=deblur_range)\n",
    "time_model(lap_srn, model_name='lap_srn', sizes=[256])"
   ]
  },
  {
   "cell_type": "code",
   "execution_count": 45,
   "metadata": {},
   "outputs": [
    {
     "name": "stdout",
     "output_type": "stream",
     "text": [
      "lap_srn 16\n",
      "lap_srn 32\n",
      "lap_srn 64\n",
      "lap_srn 128\n",
      "lap_srn 256\n"
     ]
    },
    {
     "data": {
      "text/plain": [
       "[('lap_srn',\n",
       "  16,\n",
       "  array([2.88463998, 2.37599993, 2.36339211, 2.36118388, 2.30604792,\n",
       "         2.57337594, 3.636096  , 2.7339201 , 2.63168001, 2.5837121 ,\n",
       "         2.48524809])),\n",
       " ('lap_srn',\n",
       "  32,\n",
       "  array([2.4289279 , 2.45779204, 2.70838404, 2.41356802, 2.38284802,\n",
       "         2.56707191, 2.38905597, 2.36953592, 2.42374396, 2.49638391,\n",
       "         2.38694406])),\n",
       " ('lap_srn',\n",
       "  64,\n",
       "  array([5.29407978, 5.38089609, 5.6104002 , 5.31148815, 5.38624001,\n",
       "         5.62995195, 5.27564812, 5.351264  , 5.56646395, 5.2899518 ,\n",
       "         5.37395191])),\n",
       " ('lap_srn',\n",
       "  128,\n",
       "  array([19.73119926, 19.70051193, 19.72348785, 22.31625557, 21.51971245,\n",
       "         19.78976059, 19.71052742, 19.64649582, 19.69055939, 19.7363205 ,\n",
       "         19.68643188])),\n",
       " ('lap_srn',\n",
       "  256,\n",
       "  array([76.64019012, 79.0192337 , 78.41359711, 76.37075043, 76.77101135,\n",
       "         76.56764984, 76.63420868, 77.08175659, 76.67747498, 77.02524567,\n",
       "         77.50870514]))]"
      ]
     },
     "execution_count": 45,
     "metadata": {},
     "output_type": "execute_result"
    }
   ],
   "source": [
    "time_model(lap_srn, model_name='lap_srn', sizes=[16,32, 64, 128, 256])"
   ]
  },
  {
   "cell_type": "code",
   "execution_count": 14,
   "metadata": {},
   "outputs": [],
   "source": [
    "max_unet = 2560\n",
    "max_upscaling = 1024\n",
    "\n",
    "deblur_range = [128, 256, 512, 1024, 1536, 2048]\n",
    "upscale_range = [128, 256, 512, 1024]"
   ]
  },
  {
   "cell_type": "code",
   "execution_count": 15,
   "metadata": {},
   "outputs": [
    {
     "name": "stdout",
     "output_type": "stream",
     "text": [
      "l 128\n",
      "l 256\n"
     ]
    },
    {
     "data": {
      "text/plain": [
       "[('l', 128, array([2.6003  , 2.686338, 2.758724, 2.347797, 2.340097, 2.27034 ,\n",
       "         2.27132 , 2.26727 , 3.459136, 2.678067, 2.605311])),\n",
       " ('l', 256, array([2.318265, 2.454977, 2.675267, 2.554116, 2.414063, 2.49421 ,\n",
       "         2.37323 , 2.267871, 2.26033 , 2.498031, 2.355999]))]"
      ]
     },
     "execution_count": 15,
     "metadata": {},
     "output_type": "execute_result"
    }
   ],
   "source": [
    "time_model(lap_srn, 'l', [128, 256])"
   ]
  },
  {
   "cell_type": "code",
   "execution_count": 35,
   "metadata": {},
   "outputs": [],
   "source": [
    "%matplotlib inline\n",
    "import pandas as pd\n",
    "import matplotlib.pyplot as plt\n",
    "import seaborn as sns\n",
    "df = pd.read_csv('../../results/times.csv')"
   ]
  },
  {
   "cell_type": "code",
   "execution_count": 33,
   "metadata": {},
   "outputs": [
    {
     "data": {
      "text/html": [
       "<div>\n",
       "<style scoped>\n",
       "    .dataframe tbody tr th:only-of-type {\n",
       "        vertical-align: middle;\n",
       "    }\n",
       "\n",
       "    .dataframe tbody tr th {\n",
       "        vertical-align: top;\n",
       "    }\n",
       "\n",
       "    .dataframe thead th {\n",
       "        text-align: right;\n",
       "    }\n",
       "</style>\n",
       "<table border=\"1\" class=\"dataframe\">\n",
       "  <thead>\n",
       "    <tr style=\"text-align: right;\">\n",
       "      <th></th>\n",
       "      <th>model</th>\n",
       "      <th>img_size</th>\n",
       "      <th>num_outputs</th>\n",
       "      <th>time</th>\n",
       "    </tr>\n",
       "  </thead>\n",
       "  <tbody>\n",
       "    <tr>\n",
       "      <th>0</th>\n",
       "      <td>unet</td>\n",
       "      <td>128</td>\n",
       "      <td>2</td>\n",
       "      <td>7.275322</td>\n",
       "    </tr>\n",
       "    <tr>\n",
       "      <th>1</th>\n",
       "      <td>unet</td>\n",
       "      <td>256</td>\n",
       "      <td>2</td>\n",
       "      <td>17.166054</td>\n",
       "    </tr>\n",
       "    <tr>\n",
       "      <th>2</th>\n",
       "      <td>unet</td>\n",
       "      <td>512</td>\n",
       "      <td>2</td>\n",
       "      <td>58.445059</td>\n",
       "    </tr>\n",
       "    <tr>\n",
       "      <th>3</th>\n",
       "      <td>unet</td>\n",
       "      <td>1024</td>\n",
       "      <td>2</td>\n",
       "      <td>238.271690</td>\n",
       "    </tr>\n",
       "    <tr>\n",
       "      <th>4</th>\n",
       "      <td>unet</td>\n",
       "      <td>1536</td>\n",
       "      <td>2</td>\n",
       "      <td>545.846730</td>\n",
       "    </tr>\n",
       "    <tr>\n",
       "      <th>5</th>\n",
       "      <td>unet</td>\n",
       "      <td>2048</td>\n",
       "      <td>2</td>\n",
       "      <td>980.117482</td>\n",
       "    </tr>\n",
       "    <tr>\n",
       "      <th>6</th>\n",
       "      <td>lap_deblur</td>\n",
       "      <td>128</td>\n",
       "      <td>1</td>\n",
       "      <td>1.520113</td>\n",
       "    </tr>\n",
       "    <tr>\n",
       "      <th>7</th>\n",
       "      <td>lap_deblur</td>\n",
       "      <td>128</td>\n",
       "      <td>2</td>\n",
       "      <td>2.942048</td>\n",
       "    </tr>\n",
       "    <tr>\n",
       "      <th>8</th>\n",
       "      <td>lap_deblur</td>\n",
       "      <td>256</td>\n",
       "      <td>1</td>\n",
       "      <td>5.417149</td>\n",
       "    </tr>\n",
       "    <tr>\n",
       "      <th>9</th>\n",
       "      <td>lap_deblur</td>\n",
       "      <td>256</td>\n",
       "      <td>2</td>\n",
       "      <td>10.324003</td>\n",
       "    </tr>\n",
       "    <tr>\n",
       "      <th>10</th>\n",
       "      <td>lap_deblur</td>\n",
       "      <td>512</td>\n",
       "      <td>1</td>\n",
       "      <td>20.630197</td>\n",
       "    </tr>\n",
       "    <tr>\n",
       "      <th>11</th>\n",
       "      <td>lap_deblur</td>\n",
       "      <td>512</td>\n",
       "      <td>2</td>\n",
       "      <td>39.543724</td>\n",
       "    </tr>\n",
       "    <tr>\n",
       "      <th>12</th>\n",
       "      <td>lap_deblur</td>\n",
       "      <td>1024</td>\n",
       "      <td>1</td>\n",
       "      <td>81.609662</td>\n",
       "    </tr>\n",
       "    <tr>\n",
       "      <th>13</th>\n",
       "      <td>lap_deblur</td>\n",
       "      <td>1024</td>\n",
       "      <td>2</td>\n",
       "      <td>156.943218</td>\n",
       "    </tr>\n",
       "    <tr>\n",
       "      <th>14</th>\n",
       "      <td>lap_deblur</td>\n",
       "      <td>1536</td>\n",
       "      <td>1</td>\n",
       "      <td>185.849798</td>\n",
       "    </tr>\n",
       "    <tr>\n",
       "      <th>15</th>\n",
       "      <td>lap_deblur</td>\n",
       "      <td>1536</td>\n",
       "      <td>2</td>\n",
       "      <td>356.790913</td>\n",
       "    </tr>\n",
       "    <tr>\n",
       "      <th>16</th>\n",
       "      <td>lap_deblur</td>\n",
       "      <td>2048</td>\n",
       "      <td>1</td>\n",
       "      <td>329.384105</td>\n",
       "    </tr>\n",
       "    <tr>\n",
       "      <th>17</th>\n",
       "      <td>lap_deblur</td>\n",
       "      <td>2048</td>\n",
       "      <td>2</td>\n",
       "      <td>633.309487</td>\n",
       "    </tr>\n",
       "    <tr>\n",
       "      <th>18</th>\n",
       "      <td>lap_srn</td>\n",
       "      <td>128</td>\n",
       "      <td>1</td>\n",
       "      <td>4.567727</td>\n",
       "    </tr>\n",
       "    <tr>\n",
       "      <th>19</th>\n",
       "      <td>lap_srn</td>\n",
       "      <td>128</td>\n",
       "      <td>2</td>\n",
       "      <td>21.250502</td>\n",
       "    </tr>\n",
       "    <tr>\n",
       "      <th>20</th>\n",
       "      <td>lap_srn</td>\n",
       "      <td>256</td>\n",
       "      <td>1</td>\n",
       "      <td>17.189309</td>\n",
       "    </tr>\n",
       "    <tr>\n",
       "      <th>21</th>\n",
       "      <td>lap_srn</td>\n",
       "      <td>256</td>\n",
       "      <td>2</td>\n",
       "      <td>81.911229</td>\n",
       "    </tr>\n",
       "    <tr>\n",
       "      <th>22</th>\n",
       "      <td>lap_srn</td>\n",
       "      <td>512</td>\n",
       "      <td>1</td>\n",
       "      <td>66.361990</td>\n",
       "    </tr>\n",
       "    <tr>\n",
       "      <th>23</th>\n",
       "      <td>lap_srn</td>\n",
       "      <td>512</td>\n",
       "      <td>2</td>\n",
       "      <td>324.445440</td>\n",
       "    </tr>\n",
       "    <tr>\n",
       "      <th>24</th>\n",
       "      <td>lap_srn</td>\n",
       "      <td>768</td>\n",
       "      <td>1</td>\n",
       "      <td>150.246011</td>\n",
       "    </tr>\n",
       "    <tr>\n",
       "      <th>25</th>\n",
       "      <td>lap_srn</td>\n",
       "      <td>768</td>\n",
       "      <td>2</td>\n",
       "      <td>739.378462</td>\n",
       "    </tr>\n",
       "  </tbody>\n",
       "</table>\n",
       "</div>"
      ],
      "text/plain": [
       "         model  img_size  num_outputs        time\n",
       "0         unet       128            2    7.275322\n",
       "1         unet       256            2   17.166054\n",
       "2         unet       512            2   58.445059\n",
       "3         unet      1024            2  238.271690\n",
       "4         unet      1536            2  545.846730\n",
       "5         unet      2048            2  980.117482\n",
       "6   lap_deblur       128            1    1.520113\n",
       "7   lap_deblur       128            2    2.942048\n",
       "8   lap_deblur       256            1    5.417149\n",
       "9   lap_deblur       256            2   10.324003\n",
       "10  lap_deblur       512            1   20.630197\n",
       "11  lap_deblur       512            2   39.543724\n",
       "12  lap_deblur      1024            1   81.609662\n",
       "13  lap_deblur      1024            2  156.943218\n",
       "14  lap_deblur      1536            1  185.849798\n",
       "15  lap_deblur      1536            2  356.790913\n",
       "16  lap_deblur      2048            1  329.384105\n",
       "17  lap_deblur      2048            2  633.309487\n",
       "18     lap_srn       128            1    4.567727\n",
       "19     lap_srn       128            2   21.250502\n",
       "20     lap_srn       256            1   17.189309\n",
       "21     lap_srn       256            2   81.911229\n",
       "22     lap_srn       512            1   66.361990\n",
       "23     lap_srn       512            2  324.445440\n",
       "24     lap_srn       768            1  150.246011\n",
       "25     lap_srn       768            2  739.378462"
      ]
     },
     "execution_count": 33,
     "metadata": {},
     "output_type": "execute_result"
    }
   ],
   "source": [
    "df"
   ]
  },
  {
   "cell_type": "code",
   "execution_count": 151,
   "metadata": {
    "scrolled": false
   },
   "outputs": [
    {
     "data": {
      "image/png": "[encoded data removed]",
      "text/plain": [
       "<matplotlib.figure.Figure at 0x7fbeec4ed7b8>"
      ]
     },
     "metadata": {},
     "output_type": "display_data"
    }
   ],
   "source": [
    "fig, ax = plt.subplots(figsize=(10,10))\n",
    "\n",
    "\n",
    "\n",
    "dff = df.loc[(df['model'] == 'lap_srn') & (df['num_outputs'] == 1),:]\n",
    "x = dff['img_size'].values\n",
    "y = 1000/dff['time'].values\n",
    "ax.loglog(x,y, label='2x')\n",
    "\n",
    "dff = df.loc[(df['model'] == 'lap_srn') & (df['num_outputs'] == 2),:]\n",
    "x = dff['img_size'].values\n",
    "y = 1000/dff['time'].values\n",
    "\n",
    "ax.loglog(x,y, label='4x')\n",
    "\n",
    "ax.minorticks_off()\n",
    "ax.set_xlim((128,768))\n",
    "ax.set_xticks(x)\n",
    "\n",
    "ax.set_yticks([200, 100, 60, 30, 10, 5, 1])\n",
    "#ax.set_xticklabels([str(i) for i in x])\n",
    "\n",
    "ax.set_xlabel('Image size')\n",
    "ax.set_ylabel('Frames per second')\n",
    "\n",
    "ax.legend(loc='lower left')\n",
    "\n",
    "ax.axhline(30, c='gray', linestyle='dotted')\n",
    "ax.axhline(60, c='gray', linestyle='dotted')\n",
    "\n",
    "\n",
    "from matplotlib.ticker import ScalarFormatter\n",
    "for axis in [ax.xaxis, ax.yaxis]:\n",
    "    s = ScalarFormatter()\n",
    "    #s.set_powerlimits((-3, 5))\n",
    "    s.set_scientific(True)\n",
    "    axis.set_major_formatter(ScalarFormatter())\n",
    "sns.despine(fig, ax)"
   ]
  },
  {
   "cell_type": "code",
   "execution_count": 131,
   "metadata": {},
   "outputs": [
    {
     "data": {
      "text/plain": [
       "19     21.250502\n",
       "21     81.911229\n",
       "23    324.445440\n",
       "25    739.378462\n",
       "Name: time, dtype: float64"
      ]
     },
     "execution_count": 131,
     "metadata": {},
     "output_type": "execute_result"
    }
   ],
   "source": [
    "y"
   ]
  },
  {
   "cell_type": "code",
   "execution_count": 27,
   "metadata": {},
   "outputs": [],
   "source": []
  },
  {
   "cell_type": "code",
   "execution_count": 28,
   "metadata": {},
   "outputs": [
    {
     "data": {
      "text/plain": [
       "7475.1416015625"
      ]
     },
     "execution_count": 28,
     "metadata": {},
     "output_type": "execute_result"
    }
   ],
   "source": []
  },
  {
   "cell_type": "code",
   "execution_count": null,
   "metadata": {},
   "outputs": [],
   "source": []
  }
 ],
 "metadata": {
  "kernelspec": {
   "display_name": "Python 3",
   "language": "python",
   "name": "python3"
  },
  "language_info": {
   "codemirror_mode": {
    "name": "ipython",
    "version": 3
   },
   "file_extension": ".py",
   "mimetype": "text/x-python",
   "name": "python",
   "nbconvert_exporter": "python",
   "pygments_lexer": "ipython3",
   "version": "3.6.4"
  }
 },
 "nbformat": 4,
 "nbformat_minor": 2
}
